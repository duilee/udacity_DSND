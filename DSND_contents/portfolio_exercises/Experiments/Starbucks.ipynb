{
 "cells": [
  {
   "cell_type": "markdown",
   "metadata": {},
   "source": [
    "## Portfolio Exercise Starbucks\n",
    "<br>\n",
    "\n",
    "<img src=\"https://opj.ca/wp-content/uploads/2018/02/New-Starbucks-Logo-1200x969.jpg\" width=\"200\" height=\"200\">\n",
    "<br>\n",
    "<br>\n",
    " \n",
    "#### Background Information\n",
    "\n",
    "The dataset you will be provided in this portfolio exercise was originally used as a take-home assignment provided by Starbucks for their candidates.   The data for this exercise consists of about 120,000 data points split in 2:1 ratio among training and test files. Each data point includes one column indicating whether or not an individual was sent a promotion for a specific product, and one column indicating whether or not that individual eventually purchased that product. Each individual also had seven additional features associated with them.\n",
    "\n",
    "#### Optimization Strategy\n",
    "\n",
    "Your task is to use the training data to understand what patterns in V1-V7 to indicate that a promotion should be provided to a user.  Specifically, your goal is to maximize the following metrics:\n",
    "\n",
    "* **Incremental Response Rate (IRR)** \n",
    "\n",
    "Ratio of the number of purchasers in the promotion group to the total number of customers in the purchasers group minus the ratio of the number of purchasers in the non-promotional group to the total number of customers in the non-promotional group.\n",
    "\n",
    "* **Net Incremental Revenue (NIR)**\n",
    "\n",
    "The total number of purchasers that received the promotion times 10 minus the number of promotions given times 0.15 minus the number of purchasers who were not given the promotion times 10.\n",
    "\n",
    "For a full description of what starbucks provides to candidates see the [instructions available here](https://drive.google.com/open?id=18klca9Sef1Rs6q8DW4l7o349r8B70qXM).\n",
    "\n",
    "Below you can find the training data provided.  Explore the data and different optimization strategies.\n",
    "\n",
    "#### How To Test Your Strategy?\n",
    "\n",
    "When you feel like you have an optimization strategy, complete the **promotion_strategy** function to pass to the **test_results** function.  \n",
    "From past data, we know there are four possible outomes:\n",
    "\n",
    "Table of actual promotion vs. predicted promotion customers.  \n",
    "\n",
    "|   | Actual      |    |    | \n",
    "|---|-------------|----|----|\n",
    "| **Predicted**   | Yes| No |  \n",
    "| Yes             | **I**   | **II**|  \n",
    "| No              | **III** | **IV**|  \n",
    "\n",
    "The metrics are only being compared for the individual's we predict should obtain the promotion - that is quadrants I and II here.  Since the first set of individuals that receive the promotion (in the training set) receive it randomly, we can expect that quadrants I and II will have approximately equal participants.  \n",
    "\n",
    "Comparing quadrant I to II then gives an idea of how well your promotion strategy will work in the future. \n",
    "\n",
    "\n",
    "Get started by reading in the data below.  See how each variable or combination of variables along with a promotion influences the chance of purchasing.  When you feel like you have a strategy for who should receive a promotion, test your strategy against the test dataset used in the final test_results function."
   ]
  },
  {
   "cell_type": "code",
   "execution_count": 1,
   "metadata": {},
   "outputs": [
    {
     "data": {
      "text/html": [
       "<div>\n",
       "<style scoped>\n",
       "    .dataframe tbody tr th:only-of-type {\n",
       "        vertical-align: middle;\n",
       "    }\n",
       "\n",
       "    .dataframe tbody tr th {\n",
       "        vertical-align: top;\n",
       "    }\n",
       "\n",
       "    .dataframe thead th {\n",
       "        text-align: right;\n",
       "    }\n",
       "</style>\n",
       "<table border=\"1\" class=\"dataframe\">\n",
       "  <thead>\n",
       "    <tr style=\"text-align: right;\">\n",
       "      <th></th>\n",
       "      <th>ID</th>\n",
       "      <th>Promotion</th>\n",
       "      <th>purchase</th>\n",
       "      <th>V1</th>\n",
       "      <th>V2</th>\n",
       "      <th>V3</th>\n",
       "      <th>V4</th>\n",
       "      <th>V5</th>\n",
       "      <th>V6</th>\n",
       "      <th>V7</th>\n",
       "    </tr>\n",
       "  </thead>\n",
       "  <tbody>\n",
       "    <tr>\n",
       "      <td>0</td>\n",
       "      <td>1</td>\n",
       "      <td>No</td>\n",
       "      <td>0</td>\n",
       "      <td>2</td>\n",
       "      <td>30.443518</td>\n",
       "      <td>-1.165083</td>\n",
       "      <td>1</td>\n",
       "      <td>1</td>\n",
       "      <td>3</td>\n",
       "      <td>2</td>\n",
       "    </tr>\n",
       "    <tr>\n",
       "      <td>1</td>\n",
       "      <td>3</td>\n",
       "      <td>No</td>\n",
       "      <td>0</td>\n",
       "      <td>3</td>\n",
       "      <td>32.159350</td>\n",
       "      <td>-0.645617</td>\n",
       "      <td>2</td>\n",
       "      <td>3</td>\n",
       "      <td>2</td>\n",
       "      <td>2</td>\n",
       "    </tr>\n",
       "    <tr>\n",
       "      <td>2</td>\n",
       "      <td>4</td>\n",
       "      <td>No</td>\n",
       "      <td>0</td>\n",
       "      <td>2</td>\n",
       "      <td>30.431659</td>\n",
       "      <td>0.133583</td>\n",
       "      <td>1</td>\n",
       "      <td>1</td>\n",
       "      <td>4</td>\n",
       "      <td>2</td>\n",
       "    </tr>\n",
       "    <tr>\n",
       "      <td>3</td>\n",
       "      <td>5</td>\n",
       "      <td>No</td>\n",
       "      <td>0</td>\n",
       "      <td>0</td>\n",
       "      <td>26.588914</td>\n",
       "      <td>-0.212728</td>\n",
       "      <td>2</td>\n",
       "      <td>1</td>\n",
       "      <td>4</td>\n",
       "      <td>2</td>\n",
       "    </tr>\n",
       "    <tr>\n",
       "      <td>4</td>\n",
       "      <td>8</td>\n",
       "      <td>Yes</td>\n",
       "      <td>0</td>\n",
       "      <td>3</td>\n",
       "      <td>28.044332</td>\n",
       "      <td>-0.385883</td>\n",
       "      <td>1</td>\n",
       "      <td>1</td>\n",
       "      <td>2</td>\n",
       "      <td>2</td>\n",
       "    </tr>\n",
       "  </tbody>\n",
       "</table>\n",
       "</div>"
      ],
      "text/plain": [
       "   ID Promotion  purchase  V1         V2        V3  V4  V5  V6  V7\n",
       "0   1        No         0   2  30.443518 -1.165083   1   1   3   2\n",
       "1   3        No         0   3  32.159350 -0.645617   2   3   2   2\n",
       "2   4        No         0   2  30.431659  0.133583   1   1   4   2\n",
       "3   5        No         0   0  26.588914 -0.212728   2   1   4   2\n",
       "4   8       Yes         0   3  28.044332 -0.385883   1   1   2   2"
      ]
     },
     "execution_count": 1,
     "metadata": {},
     "output_type": "execute_result"
    }
   ],
   "source": [
    "# load in packages\n",
    "from itertools import combinations\n",
    "\n",
    "from test_results import test_results, score\n",
    "import numpy as np\n",
    "import pandas as pd\n",
    "import scipy as sp\n",
    "import sklearn as sk\n",
    "import xgboost as xgb\n",
    "from imblearn.over_sampling import SMOTE\n",
    "from statsmodels.stats.power import NormalIndPower\n",
    "from statsmodels.stats.proportion import proportion_effectsize\n",
    "\n",
    "import matplotlib.pyplot as plt\n",
    "import seaborn as sb\n",
    "%matplotlib inline\n",
    "\n",
    "# load in the data\n",
    "train_data = pd.read_csv('./data/training.csv')\n",
    "train_data.head()"
   ]
  },
  {
   "cell_type": "code",
   "execution_count": 2,
   "metadata": {},
   "outputs": [
    {
     "data": {
      "text/plain": [
       "ID           0.0\n",
       "Promotion    0.0\n",
       "purchase     0.0\n",
       "V1           0.0\n",
       "V2           0.0\n",
       "V3           0.0\n",
       "V4           0.0\n",
       "V5           0.0\n",
       "V6           0.0\n",
       "V7           0.0\n",
       "dtype: float64"
      ]
     },
     "execution_count": 2,
     "metadata": {},
     "output_type": "execute_result"
    }
   ],
   "source": [
    "# Cells for you to work and document as necessary - \n",
    "# definitely feel free to add more cells as you need\n",
    "train_data.isnull().mean()"
   ]
  },
  {
   "cell_type": "code",
   "execution_count": 3,
   "metadata": {},
   "outputs": [
    {
     "data": {
      "text/html": [
       "<div>\n",
       "<style scoped>\n",
       "    .dataframe tbody tr th:only-of-type {\n",
       "        vertical-align: middle;\n",
       "    }\n",
       "\n",
       "    .dataframe tbody tr th {\n",
       "        vertical-align: top;\n",
       "    }\n",
       "\n",
       "    .dataframe thead th {\n",
       "        text-align: right;\n",
       "    }\n",
       "</style>\n",
       "<table border=\"1\" class=\"dataframe\">\n",
       "  <thead>\n",
       "    <tr style=\"text-align: right;\">\n",
       "      <th></th>\n",
       "      <th>ID</th>\n",
       "      <th>Promotion</th>\n",
       "      <th>purchase</th>\n",
       "      <th>V1</th>\n",
       "      <th>V2</th>\n",
       "      <th>V3</th>\n",
       "      <th>V4</th>\n",
       "      <th>V5</th>\n",
       "      <th>V6</th>\n",
       "      <th>V7</th>\n",
       "    </tr>\n",
       "  </thead>\n",
       "  <tbody>\n",
       "    <tr>\n",
       "      <td>0</td>\n",
       "      <td>2</td>\n",
       "      <td>No</td>\n",
       "      <td>0</td>\n",
       "      <td>1</td>\n",
       "      <td>41.376390</td>\n",
       "      <td>1.172517</td>\n",
       "      <td>1</td>\n",
       "      <td>1</td>\n",
       "      <td>2</td>\n",
       "      <td>2</td>\n",
       "    </tr>\n",
       "    <tr>\n",
       "      <td>1</td>\n",
       "      <td>6</td>\n",
       "      <td>Yes</td>\n",
       "      <td>0</td>\n",
       "      <td>1</td>\n",
       "      <td>25.163598</td>\n",
       "      <td>0.653050</td>\n",
       "      <td>2</td>\n",
       "      <td>2</td>\n",
       "      <td>2</td>\n",
       "      <td>2</td>\n",
       "    </tr>\n",
       "    <tr>\n",
       "      <td>2</td>\n",
       "      <td>7</td>\n",
       "      <td>Yes</td>\n",
       "      <td>0</td>\n",
       "      <td>1</td>\n",
       "      <td>26.553778</td>\n",
       "      <td>-1.597972</td>\n",
       "      <td>2</td>\n",
       "      <td>3</td>\n",
       "      <td>4</td>\n",
       "      <td>2</td>\n",
       "    </tr>\n",
       "    <tr>\n",
       "      <td>3</td>\n",
       "      <td>10</td>\n",
       "      <td>No</td>\n",
       "      <td>0</td>\n",
       "      <td>2</td>\n",
       "      <td>28.529691</td>\n",
       "      <td>-1.078506</td>\n",
       "      <td>2</td>\n",
       "      <td>3</td>\n",
       "      <td>2</td>\n",
       "      <td>2</td>\n",
       "    </tr>\n",
       "    <tr>\n",
       "      <td>4</td>\n",
       "      <td>12</td>\n",
       "      <td>No</td>\n",
       "      <td>0</td>\n",
       "      <td>2</td>\n",
       "      <td>32.378538</td>\n",
       "      <td>0.479895</td>\n",
       "      <td>2</td>\n",
       "      <td>2</td>\n",
       "      <td>1</td>\n",
       "      <td>2</td>\n",
       "    </tr>\n",
       "  </tbody>\n",
       "</table>\n",
       "</div>"
      ],
      "text/plain": [
       "   ID Promotion  purchase  V1         V2        V3  V4  V5  V6  V7\n",
       "0   2        No         0   1  41.376390  1.172517   1   1   2   2\n",
       "1   6       Yes         0   1  25.163598  0.653050   2   2   2   2\n",
       "2   7       Yes         0   1  26.553778 -1.597972   2   3   4   2\n",
       "3  10        No         0   2  28.529691 -1.078506   2   3   2   2\n",
       "4  12        No         0   2  32.378538  0.479895   2   2   1   2"
      ]
     },
     "execution_count": 3,
     "metadata": {},
     "output_type": "execute_result"
    }
   ],
   "source": [
    "test_data = pd.read_csv('./data/Test.csv')\n",
    "test_data.head()"
   ]
  },
  {
   "cell_type": "code",
   "execution_count": 5,
   "metadata": {},
   "outputs": [],
   "source": [
    "features = ['V1', 'V2', 'V3', 'V4', 'V5', 'V6', 'V7']\n"
   ]
  },
  {
   "cell_type": "code",
   "execution_count": 6,
   "metadata": {},
   "outputs": [
    {
     "data": {
      "text/plain": [
       "Yes    42364\n",
       "No     42170\n",
       "Name: Promotion, dtype: int64"
      ]
     },
     "execution_count": 6,
     "metadata": {},
     "output_type": "execute_result"
    }
   ],
   "source": [
    "train_data['Promotion'].value_counts()"
   ]
  },
  {
   "cell_type": "code",
   "execution_count": 7,
   "metadata": {},
   "outputs": [
    {
     "data": {
      "text/plain": [
       "0    83494\n",
       "1     1040\n",
       "Name: purchase, dtype: int64"
      ]
     },
     "execution_count": 7,
     "metadata": {},
     "output_type": "execute_result"
    }
   ],
   "source": [
    "train_data['purchase'].value_counts()\n"
   ]
  },
  {
   "cell_type": "code",
   "execution_count": 8,
   "metadata": {},
   "outputs": [
    {
     "data": {
      "text/plain": [
       "array([[<matplotlib.axes._subplots.AxesSubplot object at 0x000001C484FEB688>,\n",
       "        <matplotlib.axes._subplots.AxesSubplot object at 0x000001C48505C988>,\n",
       "        <matplotlib.axes._subplots.AxesSubplot object at 0x000001C485098448>],\n",
       "       [<matplotlib.axes._subplots.AxesSubplot object at 0x000001C4850D0588>,\n",
       "        <matplotlib.axes._subplots.AxesSubplot object at 0x000001C485108688>,\n",
       "        <matplotlib.axes._subplots.AxesSubplot object at 0x000001C485140748>],\n",
       "       [<matplotlib.axes._subplots.AxesSubplot object at 0x000001C485177888>,\n",
       "        <matplotlib.axes._subplots.AxesSubplot object at 0x000001C4851AF988>,\n",
       "        <matplotlib.axes._subplots.AxesSubplot object at 0x000001C4851BAE48>]],\n",
       "      dtype=object)"
      ]
     },
     "execution_count": 8,
     "metadata": {},
     "output_type": "execute_result"
    },
    {
     "data": {
      "image/png": "[encoded data removed]",
      "text/plain": [
       "<Figure size 720x720 with 9 Axes>"
      ]
     },
     "metadata": {
      "needs_background": "light"
     },
     "output_type": "display_data"
    }
   ],
   "source": [
    "train_data[(train_data['Promotion']=='Yes') & (train_data['purchase']==1)][features].hist(figsize=(10,10))"
   ]
  },
  {
   "cell_type": "code",
   "execution_count": 9,
   "metadata": {},
   "outputs": [
    {
     "data": {
      "text/plain": [
       "array([[<matplotlib.axes._subplots.AxesSubplot object at 0x000001C48523CD88>,\n",
       "        <matplotlib.axes._subplots.AxesSubplot object at 0x000001C485A39E88>,\n",
       "        <matplotlib.axes._subplots.AxesSubplot object at 0x000001C485931608>],\n",
       "       [<matplotlib.axes._subplots.AxesSubplot object at 0x000001C485BC6F88>,\n",
       "        <matplotlib.axes._subplots.AxesSubplot object at 0x000001C485C01988>,\n",
       "        <matplotlib.axes._subplots.AxesSubplot object at 0x000001C485C3C388>],\n",
       "       [<matplotlib.axes._subplots.AxesSubplot object at 0x000001C485C6FF48>,\n",
       "        <matplotlib.axes._subplots.AxesSubplot object at 0x000001C485CAE0C8>,\n",
       "        <matplotlib.axes._subplots.AxesSubplot object at 0x000001C485CB8588>]],\n",
       "      dtype=object)"
      ]
     },
     "execution_count": 9,
     "metadata": {},
     "output_type": "execute_result"
    },
    {
     "data": {
      "image/png": "[encoded data removed]",
      "text/plain": [
       "<Figure size 720x720 with 9 Axes>"
      ]
     },
     "metadata": {
      "needs_background": "light"
     },
     "output_type": "display_data"
    }
   ],
   "source": [
    "train_data[(train_data['Promotion']=='Yes') & (train_data['purchase']==0)][features].hist(figsize=(10,10))"
   ]
  },
  {
   "cell_type": "code",
   "execution_count": 10,
   "metadata": {},
   "outputs": [
    {
     "data": {
      "image/png": "[encoded data removed]",
      "text/plain": [
       "<Figure size 720x720 with 9 Axes>"
      ]
     },
     "metadata": {
      "needs_background": "light"
     },
     "output_type": "display_data"
    }
   ],
   "source": [
    "train_data[(train_data['Promotion']=='No') & (train_data['purchase']==1)][features].hist(figsize=(10,10));\n"
   ]
  },
  {
   "cell_type": "code",
   "execution_count": 11,
   "metadata": {},
   "outputs": [
    {
     "data": {
      "image/png": "[encoded data removed]",
      "text/plain": [
       "<Figure size 720x720 with 9 Axes>"
      ]
     },
     "metadata": {
      "needs_background": "light"
     },
     "output_type": "display_data"
    }
   ],
   "source": [
    "train_data[(train_data['Promotion']=='No') & (train_data['purchase']==0)][features].hist(figsize=(10,10));\n"
   ]
  },
  {
   "cell_type": "code",
   "execution_count": null,
   "metadata": {},
   "outputs": [],
   "source": []
  },
  {
   "cell_type": "code",
   "execution_count": 12,
   "metadata": {},
   "outputs": [],
   "source": [
    "def promotion_strategy(df):\n",
    "    '''\n",
    "    INPUT \n",
    "    df - a dataframe with *only* the columns V1 - V7 (same as train_data)\n",
    "\n",
    "    OUTPUT\n",
    "    promotion_df - np.array with the values\n",
    "                   'Yes' or 'No' related to whether or not an \n",
    "                   individual should recieve a promotion \n",
    "                   should be the length of df.shape[0]\n",
    "                \n",
    "    Ex:\n",
    "    INPUT: df\n",
    "    \n",
    "    V1\tV2\t  V3\tV4\tV5\tV6\tV7\n",
    "    2\t30\t-1.1\t1\t1\t3\t2\n",
    "    3\t32\t-0.6\t2\t3\t2\t2\n",
    "    2\t30\t0.13\t1\t1\t4\t2\n",
    "    \n",
    "    OUTPUT: promotion\n",
    "    \n",
    "    array(['Yes', 'Yes', 'No'])\n",
    "    indicating the first two users would recieve the promotion and \n",
    "    the last should not.\n",
    "    '''\n",
    "    test = df\n",
    "    \n",
    "    promotion = []\n",
    "    \n",
    "    num_test_points = test.shape[0]\n",
    "    \n",
    "    for i in range(num_test_points):\n",
    "        promotion.append('Yes')\n",
    "        \n",
    "    promotion = np.array(promotion)\n",
    "       \n",
    "    return promotion"
   ]
  },
  {
   "cell_type": "code",
   "execution_count": 14,
   "metadata": {},
   "outputs": [
    {
     "name": "stdout",
     "output_type": "stream",
     "text": [
      "Nice job!  See how well your strategy worked on our test data below!\n",
      "\n",
      "Your irr with this strategy is 0.01.\n",
      "\n",
      "Your nir with this strategy is -1132.20.\n",
      "Approximately, the highest scores obtained at Udacity were: irr of 0.1 and an nir of 300.\n",
      "\n",
      " How did you do?\n"
     ]
    },
    {
     "data": {
      "text/plain": [
       "(0.009593158278250108, -1132.1999999999998)"
      ]
     },
     "execution_count": 14,
     "metadata": {},
     "output_type": "execute_result"
    }
   ],
   "source": [
    "# This will test your results, and provide you back some information \n",
    "# on your how well your promotion_strategy will work in practice\n",
    "\n",
    "test_results(promotion_strategy)"
   ]
  },
  {
   "cell_type": "code",
   "execution_count": 15,
   "metadata": {},
   "outputs": [
    {
     "data": {
      "text/plain": [
       "5089.265513625437"
      ]
     },
     "execution_count": 15,
     "metadata": {},
     "output_type": "execute_result"
    }
   ],
   "source": [
    "# sample size needed for control and treatment group\n",
    "NormalIndPower().solve_power(effect_size = proportion_effectsize(.0096, .015), alpha=.05, power=0.8, alternative='smaller')"
   ]
  },
  {
   "cell_type": "code",
   "execution_count": 17,
   "metadata": {},
   "outputs": [],
   "source": [
    "### two models approach\n",
    "\n",
    "train_data = pd.read_csv('./training.csv')\n",
    "test_data = pd.read_csv('./Test.csv')"
   ]
  },
  {
   "cell_type": "code",
   "execution_count": 18,
   "metadata": {},
   "outputs": [],
   "source": [
    "# split\n",
    "train, valid = sk.model_selection.train_test_split(train_data, test_size=0.2, random_state=42)"
   ]
  },
  {
   "cell_type": "code",
   "execution_count": 19,
   "metadata": {},
   "outputs": [],
   "source": [
    "valid_control = valid[valid['Promotion'] == 'No']\n",
    "Y_valid_control = valid_control['purchase']\n",
    "X_valid_control = valid_control[features]\n",
    "\n",
    "valid_exper = valid[valid['Promotion'] == 'Yes']\n",
    "Y_valid_exper = valid_exper['purchase']\n",
    "X_valid_exper = valid_exper[features]"
   ]
  },
  {
   "cell_type": "code",
   "execution_count": 22,
   "metadata": {},
   "outputs": [],
   "source": [
    "# generate training data\n",
    "train_control = train[train['Promotion']=='No']\n",
    "Y_train_control = train_control['purchase']\n",
    "X_train_control = train_control[features]\n",
    "\n",
    "train_exper = train[train['Promotion']=='Yes']\n",
    "Y_train_exper = train_exper['purchase']\n",
    "X_train_exper = train_exper[features]"
   ]
  },
  {
   "cell_type": "code",
   "execution_count": 23,
   "metadata": {},
   "outputs": [],
   "source": [
    "sm = SMOTE(random_state=42, sampling_strategy = 1.0)\n",
    "\n",
    "# up-sample control group\n",
    "X_train_control_upsamp, Y_train_control_upsamp = sm.fit_sample(X_train_control, Y_train_control)\n",
    "X_train_control_upsamp = pd.DataFrame(X_train_control_upsamp, columns = features)\n",
    "Y_train_control_upsamp = pd.Series(Y_train_control_upsamp)\n",
    "\n",
    "# up sample treatment group\n",
    "X_train_exper_upsamp, Y_train_exper_upsamp = sm.fit_sample(X_train_exper, Y_train_exper)    \n",
    "X_train_exper_upsamp = pd.DataFrame(X_train_exper_upsamp, columns=features)\n",
    "Y_train_exper_upsamp = pd.Series(Y_train_exper_upsamp)"
   ]
  },
  {
   "cell_type": "code",
   "execution_count": 25,
   "metadata": {},
   "outputs": [
    {
     "name": "stdout",
     "output_type": "stream",
     "text": [
      "[0]\tvalidation_0-auc:0.749518\tvalidation_1-auc:0.474177\n",
      "Multiple eval metrics have been passed: 'validation_1-auc' will be used for early stopping.\n",
      "\n",
      "Will train until validation_1-auc hasn't improved in 30 rounds.\n",
      "[1]\tvalidation_0-auc:0.772788\tvalidation_1-auc:0.47491\n",
      "[2]\tvalidation_0-auc:0.777905\tvalidation_1-auc:0.46787\n",
      "[3]\tvalidation_0-auc:0.790457\tvalidation_1-auc:0.463392\n",
      "[4]\tvalidation_0-auc:0.795973\tvalidation_1-auc:0.472601\n",
      "[5]\tvalidation_0-auc:0.814322\tvalidation_1-auc:0.478545\n",
      "[6]\tvalidation_0-auc:0.824512\tvalidation_1-auc:0.481793\n",
      "[7]\tvalidation_0-auc:0.85821\tvalidation_1-auc:0.498108\n",
      "[8]\tvalidation_0-auc:0.863331\tvalidation_1-auc:0.504362\n",
      "[9]\tvalidation_0-auc:0.862966\tvalidation_1-auc:0.505136\n",
      "[10]\tvalidation_0-auc:0.874074\tvalidation_1-auc:0.508588\n",
      "[11]\tvalidation_0-auc:0.883838\tvalidation_1-auc:0.50589\n",
      "[12]\tvalidation_0-auc:0.88992\tvalidation_1-auc:0.51082\n",
      "[13]\tvalidation_0-auc:0.896374\tvalidation_1-auc:0.511797\n",
      "[14]\tvalidation_0-auc:0.899705\tvalidation_1-auc:0.51365\n",
      "[15]\tvalidation_0-auc:0.902508\tvalidation_1-auc:0.516938\n",
      "[16]\tvalidation_0-auc:0.905088\tvalidation_1-auc:0.516608\n",
      "[17]\tvalidation_0-auc:0.907441\tvalidation_1-auc:0.512319\n",
      "[18]\tvalidation_0-auc:0.908614\tvalidation_1-auc:0.510167\n",
      "[19]\tvalidation_0-auc:0.909865\tvalidation_1-auc:0.511706\n",
      "[20]\tvalidation_0-auc:0.912033\tvalidation_1-auc:0.51681\n",
      "[21]\tvalidation_0-auc:0.913084\tvalidation_1-auc:0.514896\n",
      "[22]\tvalidation_0-auc:0.917114\tvalidation_1-auc:0.512544\n",
      "[23]\tvalidation_0-auc:0.917725\tvalidation_1-auc:0.509879\n",
      "[24]\tvalidation_0-auc:0.918841\tvalidation_1-auc:0.512276\n",
      "[25]\tvalidation_0-auc:0.923833\tvalidation_1-auc:0.512215\n",
      "[26]\tvalidation_0-auc:0.924454\tvalidation_1-auc:0.509417\n",
      "[27]\tvalidation_0-auc:0.925395\tvalidation_1-auc:0.50992\n",
      "[28]\tvalidation_0-auc:0.925939\tvalidation_1-auc:0.51213\n",
      "[29]\tvalidation_0-auc:0.931063\tvalidation_1-auc:0.511121\n",
      "[30]\tvalidation_0-auc:0.935097\tvalidation_1-auc:0.508331\n",
      "[31]\tvalidation_0-auc:0.935342\tvalidation_1-auc:0.507143\n",
      "[32]\tvalidation_0-auc:0.937213\tvalidation_1-auc:0.507344\n",
      "[33]\tvalidation_0-auc:0.937365\tvalidation_1-auc:0.508812\n",
      "[34]\tvalidation_0-auc:0.940378\tvalidation_1-auc:0.508763\n",
      "[35]\tvalidation_0-auc:0.940671\tvalidation_1-auc:0.506418\n",
      "[36]\tvalidation_0-auc:0.941679\tvalidation_1-auc:0.50883\n",
      "[37]\tvalidation_0-auc:0.941867\tvalidation_1-auc:0.506651\n",
      "[38]\tvalidation_0-auc:0.942203\tvalidation_1-auc:0.506662\n",
      "[39]\tvalidation_0-auc:0.943527\tvalidation_1-auc:0.507965\n",
      "[40]\tvalidation_0-auc:0.943663\tvalidation_1-auc:0.506053\n",
      "[41]\tvalidation_0-auc:0.943837\tvalidation_1-auc:0.507537\n",
      "[42]\tvalidation_0-auc:0.947021\tvalidation_1-auc:0.506865\n",
      "[43]\tvalidation_0-auc:0.949916\tvalidation_1-auc:0.506205\n",
      "[44]\tvalidation_0-auc:0.953167\tvalidation_1-auc:0.504277\n",
      "[45]\tvalidation_0-auc:0.953996\tvalidation_1-auc:0.501318\n",
      "Stopping. Best iteration:\n",
      "[15]\tvalidation_0-auc:0.902508\tvalidation_1-auc:0.516938\n",
      "\n"
     ]
    },
    {
     "data": {
      "text/plain": [
       "XGBClassifier(gamma=1, max_depth=7, min_child_weight=5, seed=42, silent=False)"
      ]
     },
     "execution_count": 25,
     "metadata": {},
     "output_type": "execute_result"
    }
   ],
   "source": [
    "# train control model\n",
    "eval_set = [(X_train_control_upsamp, Y_train_control_upsamp), (X_valid_control, Y_valid_control)]\n",
    "\n",
    "model_control = xgb.XGBClassifier(learning_rate = 0.1,\n",
    "                                  max_depth=7,\n",
    "                                  min_child_weight = 5,\n",
    "                                  objective = 'binary:logistic',\n",
    "                                  seed = 42,\n",
    "                                  gamma = 1,\n",
    "                                  silent = False\n",
    "                                 )\n",
    "\n",
    "model_control.fit(X_train_control_upsamp, Y_train_control_upsamp, eval_set=eval_set, eval_metric='auc', verbose=True, early_stopping_rounds=30)"
   ]
  },
  {
   "cell_type": "code",
   "execution_count": 26,
   "metadata": {},
   "outputs": [
    {
     "name": "stdout",
     "output_type": "stream",
     "text": [
      "[0]\tvalidation_0-auc:0.747982\tvalidation_1-auc:0.576929\n",
      "Multiple eval metrics have been passed: 'validation_1-auc' will be used for early stopping.\n",
      "\n",
      "Will train until validation_1-auc hasn't improved in 30 rounds.\n",
      "[1]\tvalidation_0-auc:0.772184\tvalidation_1-auc:0.580918\n",
      "[2]\tvalidation_0-auc:0.775085\tvalidation_1-auc:0.578746\n",
      "[3]\tvalidation_0-auc:0.779998\tvalidation_1-auc:0.577736\n",
      "[4]\tvalidation_0-auc:0.799217\tvalidation_1-auc:0.582992\n",
      "[5]\tvalidation_0-auc:0.823259\tvalidation_1-auc:0.58413\n",
      "[6]\tvalidation_0-auc:0.822712\tvalidation_1-auc:0.583672\n",
      "[7]\tvalidation_0-auc:0.823361\tvalidation_1-auc:0.58206\n",
      "[8]\tvalidation_0-auc:0.830297\tvalidation_1-auc:0.583048\n",
      "[9]\tvalidation_0-auc:0.840554\tvalidation_1-auc:0.581258\n",
      "[10]\tvalidation_0-auc:0.845075\tvalidation_1-auc:0.582304\n",
      "[11]\tvalidation_0-auc:0.852002\tvalidation_1-auc:0.582233\n",
      "[12]\tvalidation_0-auc:0.862123\tvalidation_1-auc:0.582368\n",
      "[13]\tvalidation_0-auc:0.863555\tvalidation_1-auc:0.588419\n",
      "[14]\tvalidation_0-auc:0.868757\tvalidation_1-auc:0.588766\n",
      "[15]\tvalidation_0-auc:0.876886\tvalidation_1-auc:0.590576\n",
      "[16]\tvalidation_0-auc:0.886786\tvalidation_1-auc:0.589223\n",
      "[17]\tvalidation_0-auc:0.889183\tvalidation_1-auc:0.588799\n",
      "[18]\tvalidation_0-auc:0.892378\tvalidation_1-auc:0.587947\n",
      "[19]\tvalidation_0-auc:0.896513\tvalidation_1-auc:0.588644\n",
      "[20]\tvalidation_0-auc:0.897838\tvalidation_1-auc:0.587386\n",
      "[21]\tvalidation_0-auc:0.903359\tvalidation_1-auc:0.586212\n",
      "[22]\tvalidation_0-auc:0.904657\tvalidation_1-auc:0.585155\n",
      "[23]\tvalidation_0-auc:0.906478\tvalidation_1-auc:0.585006\n",
      "[24]\tvalidation_0-auc:0.913029\tvalidation_1-auc:0.582951\n",
      "[25]\tvalidation_0-auc:0.914523\tvalidation_1-auc:0.583193\n",
      "[26]\tvalidation_0-auc:0.916355\tvalidation_1-auc:0.585898\n",
      "[27]\tvalidation_0-auc:0.91742\tvalidation_1-auc:0.586506\n",
      "[28]\tvalidation_0-auc:0.918191\tvalidation_1-auc:0.586003\n",
      "[29]\tvalidation_0-auc:0.919467\tvalidation_1-auc:0.585891\n",
      "[30]\tvalidation_0-auc:0.920917\tvalidation_1-auc:0.58856\n",
      "[31]\tvalidation_0-auc:0.921174\tvalidation_1-auc:0.587604\n",
      "[32]\tvalidation_0-auc:0.923838\tvalidation_1-auc:0.586768\n",
      "[33]\tvalidation_0-auc:0.92448\tvalidation_1-auc:0.586597\n",
      "[34]\tvalidation_0-auc:0.924997\tvalidation_1-auc:0.586908\n",
      "[35]\tvalidation_0-auc:0.925797\tvalidation_1-auc:0.586157\n",
      "[36]\tvalidation_0-auc:0.926235\tvalidation_1-auc:0.585687\n",
      "[37]\tvalidation_0-auc:0.926639\tvalidation_1-auc:0.585644\n",
      "[38]\tvalidation_0-auc:0.934172\tvalidation_1-auc:0.586449\n",
      "[39]\tvalidation_0-auc:0.939382\tvalidation_1-auc:0.584473\n",
      "[40]\tvalidation_0-auc:0.939555\tvalidation_1-auc:0.584421\n",
      "[41]\tvalidation_0-auc:0.941921\tvalidation_1-auc:0.583856\n",
      "[42]\tvalidation_0-auc:0.942045\tvalidation_1-auc:0.583805\n",
      "[43]\tvalidation_0-auc:0.943555\tvalidation_1-auc:0.583705\n",
      "[44]\tvalidation_0-auc:0.943888\tvalidation_1-auc:0.582443\n",
      "[45]\tvalidation_0-auc:0.943709\tvalidation_1-auc:0.583921\n",
      "Stopping. Best iteration:\n",
      "[15]\tvalidation_0-auc:0.876886\tvalidation_1-auc:0.590576\n",
      "\n"
     ]
    },
    {
     "data": {
      "text/plain": [
       "XGBClassifier(gamma=1, max_depth=7, min_child_weight=5, seed=42, silent=True)"
      ]
     },
     "execution_count": 26,
     "metadata": {},
     "output_type": "execute_result"
    }
   ],
   "source": [
    "# train treatment model\n",
    "eval_set = [(X_train_exper_upsamp, Y_train_exper_upsamp), (X_valid_exper, Y_valid_exper)]\n",
    "model_exper = xgb.XGBClassifier(learning_rate = 0.1,\\\n",
    "                                max_depth = 7,\\\n",
    "                                min_child_weight = 5,\\\n",
    "                                objective = 'binary:logistic',\\\n",
    "                                seed = 42,\\\n",
    "                                gamma = 1,\\\n",
    "                                #colsample_bytree = 0.1,\\\n",
    "                                silent = True)\n",
    "model_exper.fit(X_train_exper_upsamp, Y_train_exper_upsamp, eval_set=eval_set,\\\n",
    "                eval_metric=\"auc\", verbose=True, early_stopping_rounds=30)"
   ]
  },
  {
   "cell_type": "code",
   "execution_count": 27,
   "metadata": {},
   "outputs": [],
   "source": [
    "# make predictions\n",
    "control_valid_pred = model_control.predict(X_valid_control, ntree_limit=model_control.best_ntree_limit)\n",
    "exper_valid_pred = model_exper.predict(X_valid_exper, ntree_limit=model_exper.best_ntree_limit)"
   ]
  },
  {
   "cell_type": "code",
   "execution_count": 29,
   "metadata": {},
   "outputs": [
    {
     "data": {
      "image/png": "[encoded data removed]",
      "text/plain": [
       "<Figure size 720x720 with 2 Axes>"
      ]
     },
     "metadata": {
      "needs_background": "light"
     },
     "output_type": "display_data"
    }
   ],
   "source": [
    "# confusion marix for thge validation set\n",
    "#valid_pred = model.predict(X_valid, ntree_limit=model.best_ntree_limit)\n",
    "cm = sk.metrics.confusion_matrix(Y_valid_control, control_valid_pred)\n",
    "\n",
    "fig, ax= plt.subplots(figsize=(10,10))\n",
    "sb.heatmap(cm, annot=True, fmt='g', ax = ax); #annot=True to annotate cells\n",
    "\n",
    "# labels, title and ticks\n",
    "ax.set_xlabel('Predicted labels');\n",
    "ax.set_ylabel('True labels'); \n",
    "ax.set_title('Confusion Matrix For Control Group'); \n",
    "ax.xaxis.set_ticklabels(['No Purchase', 'Made Purchase']); \n",
    "ax.yaxis.set_ticklabels(['No Purchase', 'Made Purchase']);"
   ]
  },
  {
   "cell_type": "code",
   "execution_count": 30,
   "metadata": {},
   "outputs": [
    {
     "data": {
      "image/png": "[encoded data removed]",
      "text/plain": [
       "<Figure size 720x720 with 2 Axes>"
      ]
     },
     "metadata": {
      "needs_background": "light"
     },
     "output_type": "display_data"
    }
   ],
   "source": [
    "\n",
    "# confusion marix for thge validation set\n",
    "#valid_pred = model.predict(X_valid, ntree_limit=model.best_ntree_limit)\n",
    "cm = sk.metrics.confusion_matrix(Y_valid_exper, exper_valid_pred)\n",
    "\n",
    "fig, ax= plt.subplots(figsize=(10,10))\n",
    "sb.heatmap(cm, annot=True, fmt='g', ax = ax); #annot=True to annotate cells\n",
    "\n",
    "# labels, title and ticks\n",
    "ax.set_xlabel('Predicted labels');\n",
    "ax.set_ylabel('True labels'); \n",
    "ax.set_title('Confusion Matrix For Treatment Group'); \n",
    "ax.xaxis.set_ticklabels(['No Purchase', 'Made Purchase']); \n",
    "ax.yaxis.set_ticklabels(['No Purchase', 'Made Purchase']);"
   ]
  },
  {
   "cell_type": "code",
   "execution_count": 31,
   "metadata": {},
   "outputs": [],
   "source": [
    "def promotion_strategy(df):\n",
    "    '''\n",
    "    INPUT \n",
    "    df - a dataframe with *only* the columns V1 - V7 (same as train_data)\n",
    "\n",
    "    OUTPUT\n",
    "    promotion_df - np.array with the values\n",
    "                   'Yes' or 'No' related to whether or not an \n",
    "                   individual should recieve a promotion \n",
    "                   should be the length of df.shape[0]            \n",
    "    Ex:\n",
    "    INPUT: df\n",
    "    \n",
    "    V1\tV2\t  V3\tV4\tV5\tV6\tV7\n",
    "    2\t30\t-1.1\t1\t1\t3\t2\n",
    "    3\t32\t-0.6\t2\t3\t2\t2\n",
    "    2\t30\t0.13\t1\t1\t4\t2\n",
    "    \n",
    "    OUTPUT: promotion\n",
    "    \n",
    "    array(['Yes', 'Yes', 'No'])\n",
    "    indicating the first two users would recieve the promotion and \n",
    "    the last should not.\n",
    "    '''\n",
    "    \n",
    "    test = df\n",
    "    \n",
    "    pred_probs_control = model_control.predict_proba(test, ntree_limit=model_control.best_ntree_limit)\n",
    "    pred_probs_exper = model_exper.predict_proba(test, ntree_limit=model_exper.best_ntree_limit)\n",
    "    \n",
    "    lift = pred_probs_exper[:, 1] - pred_probs_control[:, 1]\n",
    "    \n",
    "    promotion = []\n",
    "    \n",
    "    cutoff_lift = np.percentile(lift, 97)\n",
    "    \n",
    "    for prob in lift:\n",
    "        if prob > 0:\n",
    "            if prob > cutoff_lift:\n",
    "                promotion.append('Yes')\n",
    "        else:\n",
    "            promotion.append('No')\n",
    "            \n",
    "    promotion = np.array(promotion)\n",
    "    \n",
    "    return promotion"
   ]
  },
  {
   "cell_type": "code",
   "execution_count": 33,
   "metadata": {},
   "outputs": [
    {
     "name": "stdout",
     "output_type": "stream",
     "text": [
      "Nice job!  See how well your strategy worked on our test data below!\n",
      "\n",
      "Your irr with this strategy is -0.00.\n",
      "\n",
      "Your nir with this strategy is -103.15.\n",
      "Approximately, the highest scores obtained at Udacity were: irr of 0.1 and an nir of 300.\n",
      "\n",
      " How did you do?\n"
     ]
    },
    {
     "data": {
      "text/plain": [
       "(-0.0015026103367283099, -103.14999999999999)"
      ]
     },
     "execution_count": 33,
     "metadata": {},
     "output_type": "execute_result"
    }
   ],
   "source": [
    "# This will test your results, and provide you back some information \n",
    "# on how well your promotion_strategy will work in practice\n",
    "\n",
    "test_results(promotion_strategy)"
   ]
  },
  {
   "cell_type": "code",
   "execution_count": null,
   "metadata": {},
   "outputs": [],
   "source": []
  }
 ],
 "metadata": {
  "kernelspec": {
   "display_name": "Python 3",
   "language": "python",
   "name": "python3"
  },
  "language_info": {
   "codemirror_mode": {
    "name": "ipython",
    "version": 3
   },
   "file_extension": ".py",
   "mimetype": "text/x-python",
   "name": "python",
   "nbconvert_exporter": "python",
   "pygments_lexer": "ipython3",
   "version": "3.7.4"
  }
 },
 "nbformat": 4,
 "nbformat_minor": 2
}
